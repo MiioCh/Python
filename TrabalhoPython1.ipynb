{
  "nbformat": 4,
  "nbformat_minor": 0,
  "metadata": {
    "colab": {
      "provenance": [],
      "authorship_tag": "ABX9TyPOExWpd5RLuDNHfF0YVNlq",
      "include_colab_link": true
    },
    "kernelspec": {
      "name": "python3",
      "display_name": "Python 3"
    },
    "language_info": {
      "name": "python"
    }
  },
  "cells": [
    {
      "cell_type": "markdown",
      "metadata": {
        "id": "view-in-github",
        "colab_type": "text"
      },
      "source": [
        "<a href=\"https://colab.research.google.com/github/MiioCh/Python/blob/main/TrabalhoPython1.ipynb\" target=\"_parent\"><img src=\"https://colab.research.google.com/assets/colab-badge.svg\" alt=\"Open In Colab\"/></a>"
      ]
    },
    {
      "cell_type": "code",
      "execution_count": 16,
      "metadata": {
        "colab": {
          "base_uri": "https://localhost:8080/"
        },
        "id": "e2JwtrIxKzVV",
        "outputId": "03776278-8eed-4f19-b390-b18a9b1d41c0"
      },
      "outputs": [
        {
          "output_type": "stream",
          "name": "stdout",
          "text": [
            "Quantos alunos você deseja adicionar? 3\n",
            "Qual é o seu nome? Nicolas\n",
            "Qual é a sua nota 1? 10\n",
            "Qual é a sua nota 2? 10\n",
            "Qual é a sua nota 3? 7\n",
            "Aprovado\n",
            "Qual é o seu nome? Julia\n",
            "Qual é a sua nota 1? 7\n",
            "Qual é a sua nota 2? 8\n",
            "Qual é a sua nota 3? 6\n",
            "Aprovado\n",
            "Qual é o seu nome? Jorge\n",
            "Qual é a sua nota 1? 5\n",
            "Qual é a sua nota 2? 5\n",
            "Qual é a sua nota 3? 5\n",
            "Reprovado\n",
            "Aluno: Nicolas, Notas: [10, 10, 7], Média: 9.0\n",
            "Aluno: Julia, Notas: [7, 8, 6], Média: 7.0\n",
            "Aluno: Jorge, Notas: [5, 5, 5], Média: 5.0\n"
          ]
        }
      ],
      "source": [
        "alunos = {}\n",
        "\n",
        "\n",
        "total_alunos = int(input(\"Quantos alunos você deseja adicionar? \"))\n",
        "\n",
        "\n",
        "contador = 0\n",
        "\n",
        "\n",
        "while contador < total_alunos:\n",
        "    nome = input(\"Qual é o seu nome? \")\n",
        "    notas = []\n",
        "\n",
        "\n",
        "    for i in range(3):\n",
        "        nota = int(input(f\"Qual é a sua nota {i + 1}? \"))\n",
        "        notas.append(nota)\n",
        "\n",
        "\n",
        "    media = sum(notas) / len(notas)\n",
        "\n",
        "\n",
        "    if media >= 7:\n",
        "        print(\"Aprovado\")\n",
        "    else:\n",
        "        print(\"Reprovado\")\n",
        "\n",
        "\n",
        "    alunos[nome] = {\n",
        "        'notas': notas,\n",
        "        'media': media\n",
        "    }\n",
        "\n",
        "\n",
        "    contador += 1\n",
        "\n",
        "5\n",
        "for nome, info in alunos.items():\n",
        "    print(f\"Aluno: {nome}, Notas: {info['notas']}, Média: {info['media']}\")"
      ]
    }
  ]
}